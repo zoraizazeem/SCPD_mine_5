{
  "cells": [
    {
      "cell_type": "markdown",
      "metadata": {
        "id": "XuXWJLEm2UWS"
      },
      "source": [
        "# **CS224W - Colab 5**\n",
        "\n",
        "[![Open In Colab](https://colab.research.google.com/assets/colab-badge.svg)](https://colab.research.google.com/github/scpd-proed/XCS224W-Colab5/blob/main/Notebook/XCS224W_Colab5.ipynb)\n",
        "\n",
        "Before opening the colab with the badge, you would need to allow Google Colab to access the GitHub private repositories. Please check therefore [this tutorial](https://colab.research.google.com/github/googlecolab/colabtools/blob/master/notebooks/colab-github-demo.ipynb#:~:text=Navigate%20to%20http%3A%2F%2Fcolab,to%20read%20the%20private%20files.).\n",
        "\n",
        "If colab is opened with this badge, make sure please **save copy to drive** in 'File' menu before running the notebook."
      ]
    },
    {
      "cell_type": "markdown",
      "metadata": {
        "id": "8gzsP50bF6Gb"
      },
      "source": [
        "In this final Colab we will continue experimenting with advanced topics in GNNs. Specifically, we will look at different techniques for scaling up GNNs using PyTorch Geometric, DeepSNAP and NetworkX. In the previous Colab we worked with PyTorch Geometric's `NeighborSampler` to scale up training and testing on the OGB `arxiv` dataset and now we will be using DeepSNAP and NetworkX, to implement our own simplified version of `NeighborSampler` and run experiments with different sampling ratios on the Cora graph.\n",
        "\n",
        "Lastly, we will partition the Cora graph into clusters by using different partition algorithms and then train the models using a vanilla Cluster-GCN.\n",
        "\n",
        "**Note**: Make sure to **sequentially run all the cells in each section**, so that the intermediate variables / packages will carry over to the next cell"
      ]
    },
    {
      "cell_type": "markdown",
      "metadata": {
        "id": "MSaetj53YnT6"
      },
      "source": [
        "# Device\n",
        "You likely will want to us a GPU for this Colab.\n",
        "\n",
        "Please click `Runtime` and then `Change runtime type`. Then set the `hardware accelerator` to **GPU**."
      ]
    },
    {
      "cell_type": "markdown",
      "metadata": {
        "id": "OCK7krJdp4o8"
      },
      "source": [
        "# Setup\n",
        "As discussed in the first Colabs, the installation of PyG on Colab can be a little bit tricky. First let us check which version of PyTorch you are running"
      ]
    },
    {
      "cell_type": "code",
      "execution_count": 1,
      "metadata": {
        "colab": {
          "base_uri": "https://localhost:8080/"
        },
        "id": "2vkP8pA1qBE5",
        "outputId": "750c81d2-2a74-4b63-b1fb-f32970b64105"
      },
      "outputs": [
        {
          "output_type": "stream",
          "name": "stdout",
          "text": [
            "PyTorch has version 2.5.1+cu121\n"
          ]
        }
      ],
      "source": [
        "import torch\n",
        "import os\n",
        "print(\"PyTorch has version {}\".format(torch.__version__))"
      ]
    },
    {
      "cell_type": "markdown",
      "metadata": {
        "id": "67gOQITlCNQi"
      },
      "source": [
        "# Installation"
      ]
    },
    {
      "cell_type": "code",
      "execution_count": 2,
      "metadata": {
        "colab": {
          "base_uri": "https://localhost:8080/"
        },
        "id": "J_m9l6OYCQZP",
        "outputId": "4955eca8-7d03-4033-a498-daec3d6cc1e0"
      },
      "outputs": [
        {
          "output_type": "stream",
          "name": "stdout",
          "text": [
            "Looking in links: https://pytorch-geometric.com/whl/torch-2.4.0+cu121.html\n",
            "Collecting torch-scatter\n",
            "  Downloading https://data.pyg.org/whl/torch-2.4.0%2Bcu121/torch_scatter-2.1.2%2Bpt24cu121-cp310-cp310-linux_x86_64.whl (10.9 MB)\n",
            "\u001b[2K     \u001b[90m━━━━━━━━━━━━━━━━━━━━━━━━━━━━━━━━━━━━━━━━\u001b[0m \u001b[32m10.9/10.9 MB\u001b[0m \u001b[31m24.7 MB/s\u001b[0m eta \u001b[36m0:00:00\u001b[0m\n",
            "\u001b[?25hInstalling collected packages: torch-scatter\n",
            "Successfully installed torch-scatter-2.1.2+pt24cu121\n",
            "Looking in links: https://pytorch-geometric.com/whl/torch-2.4.0+cu121.html\n",
            "Collecting torch-sparse\n",
            "  Downloading https://data.pyg.org/whl/torch-2.4.0%2Bcu121/torch_sparse-0.6.18%2Bpt24cu121-cp310-cp310-linux_x86_64.whl (5.1 MB)\n",
            "\u001b[2K     \u001b[90m━━━━━━━━━━━━━━━━━━━━━━━━━━━━━━━━━━━━━━━━\u001b[0m \u001b[32m5.1/5.1 MB\u001b[0m \u001b[31m36.6 MB/s\u001b[0m eta \u001b[36m0:00:00\u001b[0m\n",
            "\u001b[?25hRequirement already satisfied: scipy in /usr/local/lib/python3.10/dist-packages (from torch-sparse) (1.13.1)\n",
            "Requirement already satisfied: numpy<2.3,>=1.22.4 in /usr/local/lib/python3.10/dist-packages (from scipy->torch-sparse) (1.26.4)\n",
            "Installing collected packages: torch-sparse\n",
            "Successfully installed torch-sparse-0.6.18+pt24cu121\n",
            "Collecting torch-geometric\n",
            "  Downloading torch_geometric-2.6.1-py3-none-any.whl.metadata (63 kB)\n",
            "\u001b[2K     \u001b[90m━━━━━━━━━━━━━━━━━━━━━━━━━━━━━━━━━━━━━━━━\u001b[0m \u001b[32m63.1/63.1 kB\u001b[0m \u001b[31m6.8 MB/s\u001b[0m eta \u001b[36m0:00:00\u001b[0m\n",
            "\u001b[?25hRequirement already satisfied: aiohttp in /usr/local/lib/python3.10/dist-packages (from torch-geometric) (3.11.9)\n",
            "Requirement already satisfied: fsspec in /usr/local/lib/python3.10/dist-packages (from torch-geometric) (2024.10.0)\n",
            "Requirement already satisfied: jinja2 in /usr/local/lib/python3.10/dist-packages (from torch-geometric) (3.1.4)\n",
            "Requirement already satisfied: numpy in /usr/local/lib/python3.10/dist-packages (from torch-geometric) (1.26.4)\n",
            "Requirement already satisfied: psutil>=5.8.0 in /usr/local/lib/python3.10/dist-packages (from torch-geometric) (5.9.5)\n",
            "Requirement already satisfied: pyparsing in /usr/local/lib/python3.10/dist-packages (from torch-geometric) (3.2.0)\n",
            "Requirement already satisfied: requests in /usr/local/lib/python3.10/dist-packages (from torch-geometric) (2.32.3)\n",
            "Requirement already satisfied: tqdm in /usr/local/lib/python3.10/dist-packages (from torch-geometric) (4.66.6)\n",
            "Requirement already satisfied: aiohappyeyeballs>=2.3.0 in /usr/local/lib/python3.10/dist-packages (from aiohttp->torch-geometric) (2.4.4)\n",
            "Requirement already satisfied: aiosignal>=1.1.2 in /usr/local/lib/python3.10/dist-packages (from aiohttp->torch-geometric) (1.3.1)\n",
            "Requirement already satisfied: async-timeout<6.0,>=4.0 in /usr/local/lib/python3.10/dist-packages (from aiohttp->torch-geometric) (4.0.3)\n",
            "Requirement already satisfied: attrs>=17.3.0 in /usr/local/lib/python3.10/dist-packages (from aiohttp->torch-geometric) (24.2.0)\n",
            "Requirement already satisfied: frozenlist>=1.1.1 in /usr/local/lib/python3.10/dist-packages (from aiohttp->torch-geometric) (1.5.0)\n",
            "Requirement already satisfied: multidict<7.0,>=4.5 in /usr/local/lib/python3.10/dist-packages (from aiohttp->torch-geometric) (6.1.0)\n",
            "Requirement already satisfied: propcache>=0.2.0 in /usr/local/lib/python3.10/dist-packages (from aiohttp->torch-geometric) (0.2.1)\n",
            "Requirement already satisfied: yarl<2.0,>=1.17.0 in /usr/local/lib/python3.10/dist-packages (from aiohttp->torch-geometric) (1.18.3)\n",
            "Requirement already satisfied: MarkupSafe>=2.0 in /usr/local/lib/python3.10/dist-packages (from jinja2->torch-geometric) (3.0.2)\n",
            "Requirement already satisfied: charset-normalizer<4,>=2 in /usr/local/lib/python3.10/dist-packages (from requests->torch-geometric) (3.4.0)\n",
            "Requirement already satisfied: idna<4,>=2.5 in /usr/local/lib/python3.10/dist-packages (from requests->torch-geometric) (3.10)\n",
            "Requirement already satisfied: urllib3<3,>=1.21.1 in /usr/local/lib/python3.10/dist-packages (from requests->torch-geometric) (2.2.3)\n",
            "Requirement already satisfied: certifi>=2017.4.17 in /usr/local/lib/python3.10/dist-packages (from requests->torch-geometric) (2024.8.30)\n",
            "Requirement already satisfied: typing-extensions>=4.1.0 in /usr/local/lib/python3.10/dist-packages (from multidict<7.0,>=4.5->aiohttp->torch-geometric) (4.12.2)\n",
            "Downloading torch_geometric-2.6.1-py3-none-any.whl (1.1 MB)\n",
            "\u001b[2K   \u001b[90m━━━━━━━━━━━━━━━━━━━━━━━━━━━━━━━━━━━━━━━━\u001b[0m \u001b[32m1.1/1.1 MB\u001b[0m \u001b[31m29.6 MB/s\u001b[0m eta \u001b[36m0:00:00\u001b[0m\n",
            "\u001b[?25hInstalling collected packages: torch-geometric\n",
            "Successfully installed torch-geometric-2.6.1\n",
            "\u001b[2K   \u001b[90m━━━━━━━━━━━━━━━━━━━━━━━━━━━━━━━━━━━━━━━━\u001b[0m \u001b[32m78.8/78.8 kB\u001b[0m \u001b[31m6.2 MB/s\u001b[0m eta \u001b[36m0:00:00\u001b[0m\n",
            "\u001b[?25h  Preparing metadata (setup.py) ... \u001b[?25l\u001b[?25hdone\n",
            "  Building wheel for deepsnap (setup.py) ... \u001b[?25l\u001b[?25hdone\n"
          ]
        }
      ],
      "source": [
        "# Install torch geometric\n",
        "import os\n",
        "if 'IS_GRADESCOPE_ENV' not in os.environ:\n",
        "  !pip install torch-scatter -f https://pytorch-geometric.com/whl/torch-2.4.0+cu121.html\n",
        "  !pip install torch-sparse -f https://pytorch-geometric.com/whl/torch-2.4.0+cu121.html\n",
        "  !pip install torch-geometric\n",
        "  !pip install -q ogb\n",
        "  # Fix for Deepsnap PyG 2.4.x compatibility issue (https://github.com/snap-stanford/deepsnap/issues/53)\n",
        "  !pip install -q git+https://github.com/SebastianHurubaru/deepsnap.git\n"
      ]
    },
    {
      "cell_type": "code",
      "execution_count": 3,
      "metadata": {
        "colab": {
          "base_uri": "https://localhost:8080/",
          "height": 35
        },
        "id": "PRfgbfTjCRD_",
        "outputId": "85364e0a-8b63-4a43-c65e-62082428e05e"
      },
      "outputs": [
        {
          "output_type": "execute_result",
          "data": {
            "text/plain": [
              "'2.6.1'"
            ],
            "application/vnd.google.colaboratory.intrinsic+json": {
              "type": "string"
            }
          },
          "metadata": {},
          "execution_count": 3
        }
      ],
      "source": [
        "import torch_geometric\n",
        "torch_geometric.__version__"
      ]
    },
    {
      "cell_type": "markdown",
      "metadata": {
        "id": "WFb2OAvOSn_O"
      },
      "source": [
        "# 1) Neighbor Sampling with Different Ratios\n",
        "\n",
        "We will implement our own simplified version of Neighbor Sampling using DeepSNAP and NetworkX. Then we will use our sampler to train models with different neighborhood sampling ratios and compare their performance.\n",
        "\n",
        "To make our experiments faster, we will use the Cora graph."
      ]
    },
    {
      "cell_type": "markdown",
      "metadata": {
        "id": "P9U0F7bnSz9u"
      },
      "source": [
        "## Setup"
      ]
    },
    {
      "cell_type": "code",
      "execution_count": 4,
      "metadata": {
        "colab": {
          "base_uri": "https://localhost:8080/"
        },
        "id": "PUF4on-fSxcq",
        "outputId": "d8aa5284-3498-445d-bfa2-ee158ecd1f04"
      },
      "outputs": [
        {
          "output_type": "stream",
          "name": "stderr",
          "text": [
            "Downloading https://github.com/kimiyoung/planetoid/raw/master/data/ind.cora.x\n",
            "Downloading https://github.com/kimiyoung/planetoid/raw/master/data/ind.cora.tx\n",
            "Downloading https://github.com/kimiyoung/planetoid/raw/master/data/ind.cora.allx\n",
            "Downloading https://github.com/kimiyoung/planetoid/raw/master/data/ind.cora.y\n",
            "Downloading https://github.com/kimiyoung/planetoid/raw/master/data/ind.cora.ty\n",
            "Downloading https://github.com/kimiyoung/planetoid/raw/master/data/ind.cora.ally\n",
            "Downloading https://github.com/kimiyoung/planetoid/raw/master/data/ind.cora.graph\n",
            "Downloading https://github.com/kimiyoung/planetoid/raw/master/data/ind.cora.test.index\n",
            "Processing...\n",
            "Done!\n"
          ]
        }
      ],
      "source": [
        "import copy\n",
        "import torch\n",
        "import random\n",
        "import numpy as np\n",
        "import pandas as pd\n",
        "import networkx as nx\n",
        "import torch.nn as nn\n",
        "import torch.nn.functional as F\n",
        "\n",
        "from torch_geometric.nn import SAGEConv\n",
        "from torch.utils.data import DataLoader\n",
        "from torch_geometric.datasets import Planetoid\n",
        "from torch.nn import Sequential, Linear, ReLU\n",
        "from deepsnap.dataset import GraphDataset\n",
        "from deepsnap.graph import Graph\n",
        "\n",
        "if 'IS_GRADESCOPE_ENV' not in os.environ:\n",
        "  pyg_dataset = Planetoid('./tmp', \"Cora\")"
      ]
    },
    {
      "cell_type": "markdown",
      "metadata": {
        "id": "qw6k-KdFTEYw"
      },
      "source": [
        "## GNN Model\n",
        "\n",
        "We use a simple GraphSage GNN model, which we provide to you below. Similar to in section one, notice the slightly different implementations of the forward method depending on the data `mode`. When `mode = \"batch\"` we use Neighbor sampling. Thus, the data parameter contains our graph's node features (`x`) and a list `edge_indices` containing the connectivity of each GNN layer (i.e. an edge_index for each layer, defining the bipartite neighborhood computation graph).\n",
        "\n",
        "**NOTE:** Refer to sections *Neighbor Sampling* and *PyTorch Geometric Neighbor Sampler* from Colab4 for a detailed overview of the Neighbor Sampling technique."
      ]
    },
    {
      "cell_type": "code",
      "execution_count": 5,
      "metadata": {
        "id": "PvUlNi2TS09i"
      },
      "outputs": [],
      "source": [
        "class GNN(torch.nn.Module):\n",
        "    def __init__(self, input_dim, hidden_dim, output_dim, args):\n",
        "        super(GNN, self).__init__()\n",
        "        self.dropout = args['dropout']\n",
        "        self.num_layers = args['num_layers']\n",
        "\n",
        "        self.convs = nn.ModuleList()\n",
        "        self.bns = nn.ModuleList()\n",
        "\n",
        "        self.convs.append(SAGEConv(input_dim, hidden_dim))\n",
        "        self.bns.append(nn.BatchNorm1d(hidden_dim))\n",
        "\n",
        "        for l in range(self.num_layers - 2):\n",
        "            self.convs.append(SAGEConv(hidden_dim, hidden_dim))\n",
        "            self.bns.append(nn.BatchNorm1d(hidden_dim))\n",
        "        self.convs.append(SAGEConv(hidden_dim, hidden_dim))\n",
        "\n",
        "        self.post_mp = nn.Linear(hidden_dim, output_dim)\n",
        "\n",
        "    def forward(self, data, mode=\"batch\"):\n",
        "        # Observe the difference between mode == \"batch\" and mode == \"all\".\n",
        "        # In mode == \"batch\" we pass in an edge index for each conv layer\n",
        "        # corresponding to that layer's bipartite graph structure.\n",
        "        if mode == \"batch\":\n",
        "            edge_indices, x = data\n",
        "            for i in range(len(self.convs) - 1):\n",
        "                edge_index = edge_indices[i]\n",
        "                x = self.convs[i](x, edge_index)\n",
        "                x = self.bns[i](x)\n",
        "                x = F.relu(x)\n",
        "                x = F.dropout(x, p=self.dropout, training=self.training)\n",
        "            x = self.convs[-1](x, edge_indices[len(self.convs) - 1])\n",
        "        else:\n",
        "            x, edge_index = data.node_feature, data.edge_index\n",
        "            for i in range(len(self.convs) - 1):\n",
        "                x = self.convs[i](x, edge_index)\n",
        "                x = self.bns[i](x)\n",
        "                x = F.relu(x)\n",
        "                x = F.dropout(x, p=self.dropout, training=self.training)\n",
        "            x = self.convs[-1](x, edge_index)\n",
        "        x = self.post_mp(x)\n",
        "        x = F.log_softmax(x, dim=1)\n",
        "        return x"
      ]
    },
    {
      "cell_type": "markdown",
      "metadata": {
        "id": "Ulp1A3evcJ-I"
      },
      "source": [
        "## Implementing Neighbor Sampling\n",
        "\n",
        "Now let's take a stab at implementing our own basic version of Neighbor Sampling using DeepSNAP and NetworkX. To decompose the process, we will define several helper functions before finally defining our own `neighbor_sampling` function!\n",
        "\n",
        "**NOTE:** Before working through this section, we highly recommend reviewing sections `Neighbor Sampling` and `PyTorch Geometric Neighbor Sampler`. Specifically, it is important to understand how we explicitly define an `edge_index` for each GNN layer, representing the bipartite computation graph connecting the `target_nodes` that we are embedding for that layer to their relevant neighbors from the previous layer needed for message passing."
      ]
    },
    {
      "cell_type": "markdown",
      "metadata": {
        "id": "VWneVr3_Hj4n"
      },
      "source": [
        "## **Question 1.1a**: Implementing the `sample_neighbors` function. (5 points)"
      ]
    },
    {
      "cell_type": "code",
      "execution_count": 6,
      "metadata": {
        "colab": {
          "base_uri": "https://localhost:8080/"
        },
        "id": "V1TZXvJhHjRK",
        "outputId": "147916a9-21e7-42fb-eae0-d7bfe1de4dec"
      },
      "outputs": [
        {
          "output_type": "stream",
          "name": "stdout",
          "text": [
            "Index fields: train_mask ignored.\n",
            "Index fields: val_mask ignored.\n",
            "Index fields: test_mask ignored.\n",
            "Neighbors with ratio = 1: {1632, 1090, 1315, 1316, 1093, 970, 2444, 2642, 1271, 24, 927, 2140, 2367}\n",
            "Neighbors with ratio = 0.3: {24, 1090, 2444}\n",
            "Ratio of sampled neighbors: 0.23076923076923078\n"
          ]
        }
      ],
      "source": [
        "def sample_neighbors(nodes, G, ratio, all_nodes):\n",
        "    # TODO: Implement a function that takes as input a set of nodes,\n",
        "    # a NetworkX graph G, a neighbor sampling ratio, and a set containing all nodes\n",
        "    # and returns:\n",
        "    #   1. A set of the sampled nodes\n",
        "    #   2. A set union between `all_nodes` and the newly sampled neighbor nodes.\n",
        "    #      This allows us to track the nodes needed across all message passing layers.\n",
        "    #   3. The set of edges connecting the sampled neighboring nodes to our input\n",
        "    #      set of nodes. Represents a bi-partite graph between targets (nodes)\n",
        "    #      and source (neighbor) nodes.\n",
        "\n",
        "    neighbors = set()\n",
        "    edges = []\n",
        "\n",
        "    ############# Your code here ############\n",
        "    ## (~8-10 line of code)\n",
        "    ## Note:\n",
        "    ## 1. You will will need to sample neighbors from each node given to you in\n",
        "    ##    `nodes` list.\n",
        "    ##    Hint: Use graph `G` to assist in obtaining the neighbors of each node.\n",
        "    ## 2. The number of neighbors to be sampled based on the `ratio` parameter\n",
        "    ##    must be rounded **down** to get an integer value\n",
        "    ## 3. Randomly sample neighbors without replacement (i.e. the same neighbors\n",
        "    ##    should not be selected more than once for a given node)\n",
        "    ## 4. The neighbors are stored in a set data structure to ensure that duplicates\n",
        "    ##    are avoided.  This is useful as the set union will be taken with `all_nodes`.\n",
        "    ## 5. The edges list should contain all edges sampled in the form of a tuple\n",
        "    ##    of (neighbor, node)\n",
        "\n",
        "    for node in nodes:\n",
        "      neighbours = list(nx.neighbors(G, node))\n",
        "      n = int(len(neighbours) * ratio)\n",
        "      random.shuffle(neighbours)\n",
        "      select_neighbours = neighbours[:n]\n",
        "      for neighbor in select_neighbours:\n",
        "        edges.append((neighbor, node))\n",
        "        neighbors.add(neighbor)\n",
        "\n",
        "    ##########################################\n",
        "    return neighbors, neighbors.union(all_nodes), edges\n",
        "\n",
        "if 'IS_GRADESCOPE_ENV' not in os.environ:\n",
        "  graphs_train, _, _ = \\\n",
        "      GraphDataset.pyg_to_graphs(pyg_dataset, verbose=True, fixed_split=True)\n",
        "\n",
        "  graph_train = graphs_train[0]\n",
        "\n",
        "  nodes = [15, 16, 17]\n",
        "  neighbors_full, _, _ = sample_neighbors(nodes, graph_train.G, 1, set())\n",
        "  neighbors_sampled, _, _ = sample_neighbors(nodes, graph_train.G, 0.3, set())\n",
        "  print (\"Neighbors with ratio = 1:\", neighbors_full)\n",
        "  print (\"Neighbors with ratio = 0.3:\", neighbors_sampled)\n",
        "  # Note that this is not expected to be 0.3. Since we apply\n",
        "  # our sampling ratio for each node, the number of neighbors\n",
        "  # for each node may not evenly divide by the ratio\n",
        "  print (\"Ratio of sampled neighbors:\", len(neighbors_sampled) / len(neighbors_full))"
      ]
    },
    {
      "cell_type": "markdown",
      "metadata": {
        "id": "4NKNh4TEJ8_p"
      },
      "source": [
        "## Tensor transformation and node relabeling helper functions."
      ]
    },
    {
      "cell_type": "code",
      "execution_count": 7,
      "metadata": {
        "id": "H2PeBMJIJ9Tn"
      },
      "outputs": [],
      "source": [
        "def nodes_to_tensor(nodes):\n",
        "    \"\"\"\n",
        "      Transforms a set of nodes into a node index tensor.\n",
        "    \"\"\"\n",
        "\n",
        "    node_label_index = torch.tensor(list(nodes), dtype=torch.long)\n",
        "    return node_label_index\n",
        "\n",
        "\n",
        "def edges_to_tensor(edges):\n",
        "    \"\"\"\n",
        "      Transforms a list of undirected edges into the corresponding PyG\n",
        "      edge_index tensor representation. Notice that we explicitly make\n",
        "      sure to include both edge directions.\n",
        "    \"\"\"\n",
        "\n",
        "    edge_index = torch.tensor(list(edges), dtype=torch.long)\n",
        "    edge_index = torch.cat([edge_index, torch.flip(edge_index, [1])], dim=0)\n",
        "    edge_index = edge_index.permute(1, 0)\n",
        "\n",
        "    return edge_index\n",
        "\n",
        "def relabel(nodes, labeled_nodes, edges_list):\n",
        "    \"\"\"\n",
        "      Relabel nodes with 0 based indeces.\n",
        "\n",
        "      During the sampling process, we are likely to sample a list of\n",
        "      non-continuous node ids. However, our GNN models rely on continuous\n",
        "      0 based indexing to index into the rows of our node features matrix\n",
        "      based on edges in the graph (edge_index)\n",
        "    \"\"\"\n",
        "\n",
        "    relabeled_edges_list = []\n",
        "    sorted_nodes = sorted(nodes)\n",
        "    node_mapping = {node : i for i, node in enumerate(sorted_nodes)}\n",
        "    for orig_edges in edges_list:\n",
        "        relabeled_edges = []\n",
        "        for edge in orig_edges:\n",
        "            relabeled_edges.append((node_mapping[edge[0]], node_mapping[edge[1]]))\n",
        "        relabeled_edges_list.append(relabeled_edges)\n",
        "    relabeled_labeled_nodes = [node_mapping[node] for node in labeled_nodes]\n",
        "    relabeled_nodes = [node_mapping[node] for node in nodes]\n",
        "\n",
        "    return relabeled_edges_list, relabeled_nodes, relabeled_labeled_nodes, sorted_nodes\n"
      ]
    },
    {
      "cell_type": "markdown",
      "metadata": {
        "id": "El-2h_ApOJYP"
      },
      "source": [
        "## **Question 1.1b**: Putting it all together - Implementing our own Neighbor Sampling function. (4 points)\n",
        "\n",
        "Now that we've developed a better understanding of what the Neighbor Sampling function does, we will implement our own version of it. Instead of choosing $H_k$ number of samples at each layer, we will use a ratio of the number of neigbors that a givn node has. Can you think of the pros and cons of using a ratio of the number of neighbors for a node at different layers?  "
      ]
    },
    {
      "cell_type": "code",
      "execution_count": 9,
      "metadata": {
        "colab": {
          "base_uri": "https://localhost:8080/"
        },
        "id": "LI4qHkE4cQOh",
        "outputId": "41df0b33-432a-444f-d230-511b70a90c14"
      },
      "outputs": [
        {
          "output_type": "stream",
          "name": "stdout",
          "text": [
            "Index fields: train_mask ignored.\n",
            "Index fields: val_mask ignored.\n",
            "Index fields: test_mask ignored.\n",
            "Sampled 1874 nodes, 3090 edges, 140 labeled nodes\n"
          ]
        }
      ],
      "source": [
        "def neighbor_sampling(graph, K=2, ratios=(0.1, 0.1, 0.1)):\n",
        "    # TODO: Implement a function that performs Neighbor Sampling on an input\n",
        "    # graph G for a K layer GNN. Notice that len(ratios) = K + 1. Ratios[-1]\n",
        "    # determines size of our mini-batch (i.e. the number of labeled\n",
        "    # nodes we sample computation graphs for).\n",
        "\n",
        "    assert K + 1 == len(ratios)\n",
        "\n",
        "    labeled_nodes = graph.node_label_index.tolist()\n",
        "    random.shuffle(labeled_nodes)\n",
        "    num = int(len(labeled_nodes) * ratios[-1])\n",
        "    if num > 0:\n",
        "        labeled_nodes = labeled_nodes[:num]\n",
        "    nodes_list = [set(labeled_nodes)]\n",
        "    edges_list = []\n",
        "    all_nodes = labeled_nodes\n",
        "\n",
        "    ############# Your code here ############\n",
        "    ## (~4-6 line of code)\n",
        "    ## Note:\n",
        "    ## 1. Using your previously defined `sample_neighbors` function, build up the\n",
        "    ##    edges_list for our K layer network.\n",
        "    ## 2. nodes_list is a list where nodes_list[i] is set of nodes used for message\n",
        "    ##    passing in layer i+1 of our GNN (i.e. level i in our computation graph).\n",
        "    ##    Notice, nodes_list[-1] represents the target nodes we want to\n",
        "    ##    embedd in the mini-batch.\n",
        "    ## 3. edge_list is a list of the bi-partite edge conections between layers\n",
        "    ##    in the computation graph.\n",
        "    ## 4. all_nodes is used to track all the nodes needed for message passing.\n",
        "    ## 5. Remember in a GNN, information flows from the base of the computation\n",
        "    ##    graph to the root. How does this affect the way we add to the nodes_list\n",
        "    ##    and edge_list, as well as how we read from ratios (ratios[-1]\n",
        "    ##    represents the root nodes in our computation graph)?\n",
        "    for i in range(K):\n",
        "      cur_node = nodes_list[-1]\n",
        "      cur_ratio = ratios[len(ratios) - i - 2]\n",
        "      nodes, all_nodes, edges = sample_neighbors(cur_node, graph.G, cur_ratio, all_nodes)\n",
        "      nodes_list.append(nodes)\n",
        "      edges_list.append(edges)\n",
        "\n",
        "    nodes_list.reverse()\n",
        "    edges_list.reverse()\n",
        "    #########################################\n",
        "\n",
        "    relabeled_edges_list, relabeled_all_nodes, relabeled_labeled_nodes, sorted_original_nodes = \\\n",
        "        relabel(all_nodes, labeled_nodes, edges_list)\n",
        "\n",
        "    node_index = nodes_to_tensor(sorted_original_nodes)\n",
        "    # All node features that will be used\n",
        "    node_feature = graph.node_feature[node_index]\n",
        "    edge_indices = [edges_to_tensor(edges) for edges in relabeled_edges_list]\n",
        "    node_label_index = nodes_to_tensor(relabeled_labeled_nodes)\n",
        "    orig_node_label_index = nodes_to_tensor(labeled_nodes)\n",
        "    log = \"Sampled {} nodes, {} edges, {} labeled nodes\"\n",
        "    print(log.format(node_feature.shape[0], edge_indices[0].shape[1] // 2, node_label_index.shape[0]))\n",
        "    return node_feature, edge_indices, node_label_index, orig_node_label_index\n",
        "\n",
        "if 'IS_GRADESCOPE_ENV' not in os.environ:\n",
        "  # Need to define some basic test! Primarily to test whether they build\n",
        "  # in the correct reverse order. So ideally something like ratio = (0.3, 0.5, 0.8).\n",
        "  # Just need to check shapes.\n",
        "\n",
        "  graphs_train, _, _ = \\\n",
        "      GraphDataset.pyg_to_graphs(pyg_dataset, verbose=True, fixed_split=True)\n",
        "\n",
        "  graph_train = graphs_train[0]\n",
        "\n",
        "  node_feature, edge_indices, node_label_index, _ = neighbor_sampling(graph_train, K=3, ratios=(0.5, 0.8, 1, 1))"
      ]
    },
    {
      "cell_type": "markdown",
      "metadata": {
        "id": "ooy6Hcf7TIhI"
      },
      "source": [
        "## Training and Testing\n",
        "\n",
        "Additionally, notice that node classification task on Cora is a semi-supervised classification task, here we keep all the labeled training nodes (140 nodes) by setting the last ratio to 1."
      ]
    },
    {
      "cell_type": "code",
      "execution_count": 10,
      "metadata": {
        "id": "iSmZhpzPTGPY"
      },
      "outputs": [],
      "source": [
        "def train(train_graphs, val_graphs, args, model, optimizer, mode=\"batch\"):\n",
        "    best_val = 0\n",
        "    best_model = None\n",
        "    accs = []\n",
        "    graph_train = train_graphs[0]\n",
        "    graph_train.to(args['device'])\n",
        "    for epoch in range(1, 1 + args['epochs']):\n",
        "        model.train()\n",
        "        optimizer.zero_grad()\n",
        "        if mode == \"batch\":\n",
        "            node_feature, edge_indices, node_label_index, orig_node_index = neighbor_sampling(graph_train, args['num_layers'], args['ratios'])\n",
        "            node_feature = node_feature.to(args['device'])\n",
        "            node_label_index = node_label_index.to(args['device'])\n",
        "            for i in range(len(edge_indices)):\n",
        "                edge_indices[i] = edge_indices[i].to(args['device'])\n",
        "            pred = model([edge_indices, node_feature])\n",
        "            pred = pred[node_label_index]\n",
        "            label = graph_train.node_label[orig_node_index]\n",
        "        elif mode == \"community\":\n",
        "            graph = random.choice(train_graphs)\n",
        "            graph = graph.to(args['device'])\n",
        "            pred = model(graph, mode=\"all\")\n",
        "            pred = pred[graph.node_label_index]\n",
        "            label = graph.node_label[graph.node_label_index]\n",
        "        else:\n",
        "            pred = model(graph_train, mode=\"all\")\n",
        "            label = graph_train.node_label\n",
        "            pred = pred[graph_train.node_label_index]\n",
        "        loss = F.nll_loss(pred, label)\n",
        "        loss.backward()\n",
        "        optimizer.step()\n",
        "\n",
        "        train_acc, val_acc, test_acc = test(val_graphs, model)\n",
        "        accs.append((train_acc, val_acc, test_acc))\n",
        "        if val_acc > best_val:\n",
        "            best_val = val_acc\n",
        "            best_model = copy.deepcopy(model)\n",
        "        print(f'Epoch: {epoch:02d}, '\n",
        "              f'Loss: {loss:.4f}, '\n",
        "              f'Train: {100 * train_acc:.2f}%, '\n",
        "              f'Valid: {100 * val_acc:.2f}% '\n",
        "              f'Test: {100 * test_acc:.2f}%')\n",
        "    return best_model, accs\n",
        "\n",
        "def test(graphs, model, save_model_results=False, batch_type=\"batch\", title=None):\n",
        "    model.eval()\n",
        "    accs = []\n",
        "\n",
        "    for graph in graphs:\n",
        "        graph = graph.to(args['device'])\n",
        "        pred = model(graph, mode=\"all\")\n",
        "        label = graph.node_label\n",
        "        pred = pred[graph.node_label_index].max(1)[1]\n",
        "        acc = pred.eq(label).sum().item()\n",
        "        acc /= len(label)\n",
        "        accs.append(acc)\n",
        "\n",
        "    if save_model_results:\n",
        "      print (\"Saving Model Predictions for Model:\", batch_type, title)\n",
        "\n",
        "      data = {}\n",
        "      # The last dataset we test is the test graph\n",
        "      data['pred'] = pred.view(-1).cpu().detach().numpy()\n",
        "      data['label'] = label.view(-1).cpu().detach().numpy()\n",
        "\n",
        "      df = pd.DataFrame(data=data)\n",
        "      # Save locally as csv\n",
        "      file_name = 'CORA_Node_' + batch_type\n",
        "      if title is not None:\n",
        "        file_name = file_name + \"_\" + title\n",
        "\n",
        "      df.to_csv(file_name + '.csv', sep=',', index=False)\n",
        "\n",
        "    return accs"
      ]
    },
    {
      "cell_type": "code",
      "execution_count": 11,
      "metadata": {
        "id": "HV7i0v0ETKzf"
      },
      "outputs": [],
      "source": [
        "args = {\n",
        "    'device': torch.device('cuda' if torch.cuda.is_available() else 'cpu'),\n",
        "    'dropout': 0.5,\n",
        "    'num_layers': 2,\n",
        "    'hidden_size': 64,\n",
        "    'lr': 0.005,\n",
        "    'epochs': 50,\n",
        "    'ratios': (0.8, 0.8, 1),\n",
        "}"
      ]
    },
    {
      "cell_type": "code",
      "execution_count": 12,
      "metadata": {
        "id": "kfiKId8-iBj1"
      },
      "outputs": [],
      "source": [
        "def set_seed(seed=224):\n",
        "\n",
        "    random.seed(seed)\n",
        "    np.random.seed(seed)\n",
        "    torch.manual_seed(seed)\n",
        "    torch.backends.cudnn.benchmark = False"
      ]
    },
    {
      "cell_type": "markdown",
      "metadata": {
        "id": "rLpRYKbnTQnj"
      },
      "source": [
        "## Full-Batch Training\n",
        "\n",
        "As a baseline, we train our GNN model over the entire graph without any Neighbor Sampling."
      ]
    },
    {
      "cell_type": "code",
      "execution_count": 13,
      "metadata": {
        "colab": {
          "base_uri": "https://localhost:8080/"
        },
        "id": "pMGGjbJBTOo1",
        "outputId": "f3ab68fd-0e9e-4c49-9d08-db70c9b0cb88"
      },
      "outputs": [
        {
          "output_type": "stream",
          "name": "stdout",
          "text": [
            "Index fields: train_mask ignored.\n",
            "Index fields: val_mask ignored.\n",
            "Index fields: test_mask ignored.\n",
            "Epoch: 01, Loss: 2.0228, Train: 65.00%, Valid: 29.20% Test: 35.40%\n",
            "Epoch: 02, Loss: 1.0957, Train: 97.86%, Valid: 54.60% Test: 58.50%\n",
            "Epoch: 03, Loss: 0.6141, Train: 100.00%, Valid: 68.60% Test: 69.90%\n",
            "Epoch: 04, Loss: 0.2814, Train: 100.00%, Valid: 74.20% Test: 74.00%\n",
            "Epoch: 05, Loss: 0.1553, Train: 100.00%, Valid: 75.40% Test: 75.70%\n",
            "Epoch: 06, Loss: 0.0629, Train: 100.00%, Valid: 76.00% Test: 76.10%\n",
            "Epoch: 07, Loss: 0.0454, Train: 100.00%, Valid: 77.00% Test: 75.90%\n",
            "Epoch: 08, Loss: 0.0232, Train: 100.00%, Valid: 77.40% Test: 76.40%\n",
            "Epoch: 09, Loss: 0.0108, Train: 100.00%, Valid: 77.20% Test: 76.20%\n",
            "Epoch: 10, Loss: 0.0120, Train: 100.00%, Valid: 77.00% Test: 76.30%\n",
            "Epoch: 11, Loss: 0.0047, Train: 100.00%, Valid: 76.60% Test: 76.20%\n",
            "Epoch: 12, Loss: 0.0061, Train: 100.00%, Valid: 76.40% Test: 76.10%\n",
            "Epoch: 13, Loss: 0.0046, Train: 100.00%, Valid: 76.20% Test: 76.10%\n",
            "Epoch: 14, Loss: 0.0012, Train: 100.00%, Valid: 76.00% Test: 76.00%\n",
            "Epoch: 15, Loss: 0.0049, Train: 100.00%, Valid: 75.80% Test: 75.80%\n",
            "Epoch: 16, Loss: 0.0019, Train: 100.00%, Valid: 75.60% Test: 75.70%\n",
            "Epoch: 17, Loss: 0.0006, Train: 100.00%, Valid: 75.20% Test: 75.90%\n",
            "Epoch: 18, Loss: 0.0013, Train: 100.00%, Valid: 75.20% Test: 75.90%\n",
            "Epoch: 19, Loss: 0.0003, Train: 100.00%, Valid: 75.00% Test: 75.60%\n",
            "Epoch: 20, Loss: 0.0005, Train: 100.00%, Valid: 75.00% Test: 75.70%\n",
            "Epoch: 21, Loss: 0.0003, Train: 100.00%, Valid: 75.20% Test: 75.60%\n",
            "Epoch: 22, Loss: 0.0001, Train: 100.00%, Valid: 75.20% Test: 75.40%\n",
            "Epoch: 23, Loss: 0.0005, Train: 100.00%, Valid: 75.00% Test: 75.40%\n",
            "Epoch: 24, Loss: 0.0004, Train: 100.00%, Valid: 74.60% Test: 75.20%\n",
            "Epoch: 25, Loss: 0.0001, Train: 100.00%, Valid: 74.60% Test: 75.10%\n",
            "Epoch: 26, Loss: 0.0002, Train: 100.00%, Valid: 74.60% Test: 75.10%\n",
            "Epoch: 27, Loss: 0.0005, Train: 100.00%, Valid: 74.80% Test: 75.30%\n",
            "Epoch: 28, Loss: 0.0002, Train: 100.00%, Valid: 74.80% Test: 75.20%\n",
            "Epoch: 29, Loss: 0.0007, Train: 100.00%, Valid: 74.80% Test: 75.20%\n",
            "Epoch: 30, Loss: 0.0001, Train: 100.00%, Valid: 75.00% Test: 75.30%\n",
            "Epoch: 31, Loss: 0.0007, Train: 100.00%, Valid: 75.00% Test: 75.10%\n",
            "Epoch: 32, Loss: 0.0000, Train: 100.00%, Valid: 75.00% Test: 75.00%\n",
            "Epoch: 33, Loss: 0.0001, Train: 100.00%, Valid: 75.00% Test: 75.20%\n",
            "Epoch: 34, Loss: 0.0000, Train: 100.00%, Valid: 75.00% Test: 75.20%\n",
            "Epoch: 35, Loss: 0.0001, Train: 100.00%, Valid: 75.00% Test: 75.20%\n",
            "Epoch: 36, Loss: 0.0000, Train: 100.00%, Valid: 74.80% Test: 75.30%\n",
            "Epoch: 37, Loss: 0.0000, Train: 100.00%, Valid: 74.60% Test: 75.40%\n",
            "Epoch: 38, Loss: 0.0000, Train: 100.00%, Valid: 74.60% Test: 75.40%\n",
            "Epoch: 39, Loss: 0.0001, Train: 100.00%, Valid: 74.60% Test: 75.40%\n",
            "Epoch: 40, Loss: 0.0000, Train: 100.00%, Valid: 74.60% Test: 75.40%\n",
            "Epoch: 41, Loss: 0.0002, Train: 100.00%, Valid: 74.40% Test: 75.10%\n",
            "Epoch: 42, Loss: 0.0002, Train: 100.00%, Valid: 74.40% Test: 74.90%\n",
            "Epoch: 43, Loss: 0.0000, Train: 100.00%, Valid: 74.60% Test: 75.00%\n",
            "Epoch: 44, Loss: 0.0000, Train: 100.00%, Valid: 74.60% Test: 74.90%\n",
            "Epoch: 45, Loss: 0.0001, Train: 100.00%, Valid: 74.60% Test: 74.90%\n",
            "Epoch: 46, Loss: 0.0000, Train: 100.00%, Valid: 74.60% Test: 74.90%\n",
            "Epoch: 47, Loss: 0.0001, Train: 100.00%, Valid: 74.40% Test: 74.80%\n",
            "Epoch: 48, Loss: 0.0007, Train: 100.00%, Valid: 74.40% Test: 74.90%\n",
            "Epoch: 49, Loss: 0.0001, Train: 100.00%, Valid: 74.40% Test: 74.80%\n",
            "Epoch: 50, Loss: 0.0000, Train: 100.00%, Valid: 74.40% Test: 74.80%\n",
            "Best model: Train: 100.00%, Valid: 77.40% Test: 76.40%\n"
          ]
        }
      ],
      "source": [
        "if 'IS_GRADESCOPE_ENV' not in os.environ:\n",
        "\n",
        "  set_seed()\n",
        "\n",
        "  graphs_train, graphs_val, graphs_test = \\\n",
        "      GraphDataset.pyg_to_graphs(pyg_dataset, verbose=True, fixed_split=True)\n",
        "\n",
        "  graph_train = graphs_train[0]\n",
        "  graph_val = graphs_val[0]\n",
        "  graph_test = graphs_test[0]\n",
        "\n",
        "  model = GNN(graph_train.num_node_features, args['hidden_size'], graph_train.num_node_labels, args).to(args['device'])\n",
        "\n",
        "  # Disable compile as this does not seem to work yet in PyTorch 2.0.1/PyG 2.3.1\n",
        "  # try:\n",
        "  #   model = torch_geometric.compile(model)\n",
        "  #   print(f\"GNN Model compiled\")\n",
        "  # except Exception as err:\n",
        "  #   print(f\"Model compile not supported: {err}\")\n",
        "\n",
        "  optimizer = torch.optim.Adam(model.parameters(), lr=args['lr'])\n",
        "  graphs = [graph_train, graph_val, graph_test]\n",
        "  all_best_model, all_accs = train(graphs, graphs, args, model, optimizer, mode=\"all\")\n",
        "  train_acc, val_acc, test_acc = test([graph_train, graph_val, graph_test], all_best_model)\n",
        "  print('Best model:',\n",
        "        f'Train: {100 * train_acc:.2f}%, '\n",
        "        f'Valid: {100 * val_acc:.2f}% '\n",
        "        f'Test: {100 * test_acc:.2f}%')"
      ]
    },
    {
      "cell_type": "markdown",
      "metadata": {
        "id": "JWkGiwB6Thr4"
      },
      "source": [
        "## **Question 1.2a:** What is the maximum test accuracy using samping ratios = (0.7, 0.9, 1)? (12 points)\n",
        "\n",
        "Running the cell below will show the results of your best model and save your best model's predictions to a file named CORA_Node_batch_(0.7, 0.9, 1).csv'.\n",
        "\n",
        "As we have seen before you can view this file by clicking on the Folder icon on the left side pannel. When you sumbit your assignment, you will have to download this file and attatch it to your submission."
      ]
    },
    {
      "cell_type": "code",
      "execution_count": 14,
      "metadata": {
        "colab": {
          "base_uri": "https://localhost:8080/"
        },
        "id": "yWusJ9u3Tfhv",
        "outputId": "bb42e14a-f2b1-4926-9f80-e3b50e47b3c2"
      },
      "outputs": [
        {
          "output_type": "stream",
          "name": "stdout",
          "text": [
            "Index fields: train_mask ignored.\n",
            "Index fields: val_mask ignored.\n",
            "Index fields: test_mask ignored.\n",
            "Sampled 1282 nodes, 1825 edges, 140 labeled nodes\n",
            "Epoch: 01, Loss: 1.9865, Train: 50.00%, Valid: 21.80% Test: 25.60%\n",
            "Sampled 1247 nodes, 1779 edges, 140 labeled nodes\n",
            "Epoch: 02, Loss: 1.3804, Train: 90.71%, Valid: 46.40% Test: 50.90%\n",
            "Sampled 1267 nodes, 1782 edges, 140 labeled nodes\n",
            "Epoch: 03, Loss: 0.9118, Train: 96.43%, Valid: 63.60% Test: 66.10%\n",
            "Sampled 1250 nodes, 1781 edges, 140 labeled nodes\n",
            "Epoch: 04, Loss: 0.5949, Train: 98.57%, Valid: 69.80% Test: 71.50%\n",
            "Sampled 1260 nodes, 1808 edges, 140 labeled nodes\n",
            "Epoch: 05, Loss: 0.4114, Train: 98.57%, Valid: 73.00% Test: 75.00%\n",
            "Sampled 1277 nodes, 1821 edges, 140 labeled nodes\n",
            "Epoch: 06, Loss: 0.2631, Train: 99.29%, Valid: 74.80% Test: 77.30%\n",
            "Sampled 1284 nodes, 1801 edges, 140 labeled nodes\n",
            "Epoch: 07, Loss: 0.1592, Train: 99.29%, Valid: 75.20% Test: 77.30%\n",
            "Sampled 1274 nodes, 1834 edges, 140 labeled nodes\n",
            "Epoch: 08, Loss: 0.1114, Train: 99.29%, Valid: 75.80% Test: 77.50%\n",
            "Sampled 1273 nodes, 1798 edges, 140 labeled nodes\n",
            "Epoch: 09, Loss: 0.0933, Train: 100.00%, Valid: 76.20% Test: 77.60%\n",
            "Sampled 1223 nodes, 1707 edges, 140 labeled nodes\n",
            "Epoch: 10, Loss: 0.0638, Train: 100.00%, Valid: 76.20% Test: 77.50%\n",
            "Sampled 1241 nodes, 1767 edges, 140 labeled nodes\n",
            "Epoch: 11, Loss: 0.0457, Train: 100.00%, Valid: 76.60% Test: 77.30%\n",
            "Sampled 1262 nodes, 1794 edges, 140 labeled nodes\n",
            "Epoch: 12, Loss: 0.0367, Train: 100.00%, Valid: 77.00% Test: 76.80%\n",
            "Sampled 1253 nodes, 1818 edges, 140 labeled nodes\n",
            "Epoch: 13, Loss: 0.0353, Train: 100.00%, Valid: 77.00% Test: 76.20%\n",
            "Sampled 1247 nodes, 1757 edges, 140 labeled nodes\n",
            "Epoch: 14, Loss: 0.0111, Train: 100.00%, Valid: 77.20% Test: 75.80%\n",
            "Sampled 1248 nodes, 1778 edges, 140 labeled nodes\n",
            "Epoch: 15, Loss: 0.0345, Train: 100.00%, Valid: 77.00% Test: 75.80%\n",
            "Sampled 1258 nodes, 1778 edges, 140 labeled nodes\n",
            "Epoch: 16, Loss: 0.0154, Train: 100.00%, Valid: 76.80% Test: 75.60%\n",
            "Sampled 1266 nodes, 1788 edges, 140 labeled nodes\n",
            "Epoch: 17, Loss: 0.0064, Train: 100.00%, Valid: 76.80% Test: 75.70%\n",
            "Sampled 1262 nodes, 1779 edges, 140 labeled nodes\n",
            "Epoch: 18, Loss: 0.0059, Train: 100.00%, Valid: 76.60% Test: 75.40%\n",
            "Sampled 1271 nodes, 1830 edges, 140 labeled nodes\n",
            "Epoch: 19, Loss: 0.0059, Train: 100.00%, Valid: 76.40% Test: 75.20%\n",
            "Sampled 1228 nodes, 1771 edges, 140 labeled nodes\n",
            "Epoch: 20, Loss: 0.0201, Train: 100.00%, Valid: 76.00% Test: 75.20%\n",
            "Sampled 1277 nodes, 1830 edges, 140 labeled nodes\n",
            "Epoch: 21, Loss: 0.0119, Train: 100.00%, Valid: 75.40% Test: 75.00%\n",
            "Sampled 1236 nodes, 1756 edges, 140 labeled nodes\n",
            "Epoch: 22, Loss: 0.0188, Train: 100.00%, Valid: 75.20% Test: 74.80%\n",
            "Sampled 1264 nodes, 1786 edges, 140 labeled nodes\n",
            "Epoch: 23, Loss: 0.0086, Train: 100.00%, Valid: 75.00% Test: 74.80%\n",
            "Sampled 1291 nodes, 1841 edges, 140 labeled nodes\n",
            "Epoch: 24, Loss: 0.0019, Train: 100.00%, Valid: 74.60% Test: 74.80%\n",
            "Sampled 1264 nodes, 1827 edges, 140 labeled nodes\n",
            "Epoch: 25, Loss: 0.0169, Train: 100.00%, Valid: 74.40% Test: 75.00%\n",
            "Sampled 1261 nodes, 1772 edges, 140 labeled nodes\n",
            "Epoch: 26, Loss: 0.0008, Train: 100.00%, Valid: 74.20% Test: 75.00%\n",
            "Sampled 1274 nodes, 1829 edges, 140 labeled nodes\n",
            "Epoch: 27, Loss: 0.0007, Train: 100.00%, Valid: 74.20% Test: 75.20%\n",
            "Sampled 1267 nodes, 1802 edges, 140 labeled nodes\n",
            "Epoch: 28, Loss: 0.0072, Train: 100.00%, Valid: 74.60% Test: 75.40%\n",
            "Sampled 1279 nodes, 1787 edges, 140 labeled nodes\n",
            "Epoch: 29, Loss: 0.0090, Train: 100.00%, Valid: 74.60% Test: 75.10%\n",
            "Sampled 1274 nodes, 1831 edges, 140 labeled nodes\n",
            "Epoch: 30, Loss: 0.0036, Train: 100.00%, Valid: 74.80% Test: 75.10%\n",
            "Sampled 1231 nodes, 1766 edges, 140 labeled nodes\n",
            "Epoch: 31, Loss: 0.0137, Train: 100.00%, Valid: 75.00% Test: 75.00%\n",
            "Sampled 1262 nodes, 1832 edges, 140 labeled nodes\n",
            "Epoch: 32, Loss: 0.0023, Train: 100.00%, Valid: 75.00% Test: 74.90%\n",
            "Sampled 1240 nodes, 1766 edges, 140 labeled nodes\n",
            "Epoch: 33, Loss: 0.0043, Train: 100.00%, Valid: 75.20% Test: 75.10%\n",
            "Sampled 1265 nodes, 1819 edges, 140 labeled nodes\n",
            "Epoch: 34, Loss: 0.0009, Train: 100.00%, Valid: 75.20% Test: 75.20%\n",
            "Sampled 1237 nodes, 1768 edges, 140 labeled nodes\n",
            "Epoch: 35, Loss: 0.0010, Train: 100.00%, Valid: 75.40% Test: 75.00%\n",
            "Sampled 1256 nodes, 1784 edges, 140 labeled nodes\n",
            "Epoch: 36, Loss: 0.0137, Train: 100.00%, Valid: 75.20% Test: 74.90%\n",
            "Sampled 1267 nodes, 1836 edges, 140 labeled nodes\n",
            "Epoch: 37, Loss: 0.0015, Train: 100.00%, Valid: 75.20% Test: 74.80%\n",
            "Sampled 1265 nodes, 1778 edges, 140 labeled nodes\n",
            "Epoch: 38, Loss: 0.0005, Train: 100.00%, Valid: 75.00% Test: 74.60%\n",
            "Sampled 1273 nodes, 1798 edges, 140 labeled nodes\n",
            "Epoch: 39, Loss: 0.0009, Train: 100.00%, Valid: 74.80% Test: 74.60%\n",
            "Sampled 1203 nodes, 1717 edges, 140 labeled nodes\n",
            "Epoch: 40, Loss: 0.0014, Train: 100.00%, Valid: 74.80% Test: 74.50%\n",
            "Sampled 1250 nodes, 1786 edges, 140 labeled nodes\n",
            "Epoch: 41, Loss: 0.0004, Train: 100.00%, Valid: 74.80% Test: 74.50%\n",
            "Sampled 1280 nodes, 1816 edges, 140 labeled nodes\n",
            "Epoch: 42, Loss: 0.0025, Train: 100.00%, Valid: 74.60% Test: 74.30%\n",
            "Sampled 1245 nodes, 1777 edges, 140 labeled nodes\n",
            "Epoch: 43, Loss: 0.0148, Train: 100.00%, Valid: 74.60% Test: 74.30%\n",
            "Sampled 1294 nodes, 1838 edges, 140 labeled nodes\n",
            "Epoch: 44, Loss: 0.0025, Train: 100.00%, Valid: 74.60% Test: 74.10%\n",
            "Sampled 1252 nodes, 1817 edges, 140 labeled nodes\n",
            "Epoch: 45, Loss: 0.0046, Train: 100.00%, Valid: 75.00% Test: 74.20%\n",
            "Sampled 1268 nodes, 1827 edges, 140 labeled nodes\n",
            "Epoch: 46, Loss: 0.0010, Train: 100.00%, Valid: 75.00% Test: 74.20%\n",
            "Sampled 1248 nodes, 1807 edges, 140 labeled nodes\n",
            "Epoch: 47, Loss: 0.0023, Train: 100.00%, Valid: 75.20% Test: 74.20%\n",
            "Sampled 1197 nodes, 1749 edges, 140 labeled nodes\n",
            "Epoch: 48, Loss: 0.0009, Train: 100.00%, Valid: 75.00% Test: 74.30%\n",
            "Sampled 1260 nodes, 1800 edges, 140 labeled nodes\n",
            "Epoch: 49, Loss: 0.0008, Train: 100.00%, Valid: 74.60% Test: 74.10%\n",
            "Sampled 1250 nodes, 1764 edges, 140 labeled nodes\n",
            "Epoch: 50, Loss: 0.0005, Train: 100.00%, Valid: 74.60% Test: 74.10%\n",
            "Saving Model Predictions for Model: batch (0.7,0.9,1)\n",
            "Best model: Train: 100.00%, Valid: 77.20% Test: 75.80%\n"
          ]
        }
      ],
      "source": [
        "if 'IS_GRADESCOPE_ENV' not in os.environ:\n",
        "\n",
        "  set_seed()\n",
        "\n",
        "  args['ratios'] = (0.7, 0.9, 1)\n",
        "\n",
        "  graphs_train, graphs_val, graphs_test = \\\n",
        "      GraphDataset.pyg_to_graphs(pyg_dataset, verbose=True, fixed_split=True)\n",
        "\n",
        "  graph_train = graphs_train[0]\n",
        "  graph_val = graphs_val[0]\n",
        "  graph_test = graphs_test[0]\n",
        "\n",
        "  model = GNN(graph_train.num_node_features, args['hidden_size'], graph_train.num_node_labels, args).to(args['device'])\n",
        "\n",
        "  # Disable compile as this does not seem to work yet in PyTorch 2.0.1/PyG 2.3.1\n",
        "  # try:\n",
        "  #   model = torch_geometric.compile(model)\n",
        "  #   print(f\"GNN Model compiled\")\n",
        "  # except Exception as err:\n",
        "  #   print(f\"Model compile not supported: {err}\")\n",
        "\n",
        "  optimizer = torch.optim.Adam(model.parameters(), lr=args['lr'])\n",
        "  graphs = [graph_train, graph_val, graph_test]\n",
        "  batch_best_model, batch_accs = train(graphs, graphs, args, model, optimizer)\n",
        "  train_acc, val_acc, test_acc = test([graph_train, graph_val, graph_test], batch_best_model, save_model_results=True, batch_type=\"batch\", title=\"(0.7,0.9,1)\")\n",
        "  print('Best model:',\n",
        "        f'Train: {100 * train_acc:.2f}%, '\n",
        "        f'Valid: {100 * val_acc:.2f}% '\n",
        "        f'Test: {100 * test_acc:.2f}%')"
      ]
    },
    {
      "cell_type": "markdown",
      "metadata": {
        "id": "w_FjkNHDT4c6"
      },
      "source": [
        "## **Question 1.2b:** What is the maximum test accuracy using samping ratios = (0.3, 0.5, 1)? (12 points)\n",
        "\n",
        "Running the cell below will show the results of your best model and save your best model's predictions to a file named CORA_Node_batch_(0.3, 0.5, 1).csv'.\n",
        "\n",
        "As we have seen before you can view this file by clicking on the Folder icon on the left side pannel. When you submit your assignment, you will have to download this file and attach it to your submission."
      ]
    },
    {
      "cell_type": "code",
      "execution_count": 15,
      "metadata": {
        "colab": {
          "base_uri": "https://localhost:8080/"
        },
        "id": "booJ6DASTjO4",
        "outputId": "9bf80b27-1a43-4b98-9257-c86a0e9941dd"
      },
      "outputs": [
        {
          "output_type": "stream",
          "name": "stdout",
          "text": [
            "Index fields: train_mask ignored.\n",
            "Index fields: val_mask ignored.\n",
            "Index fields: test_mask ignored.\n",
            "Sampled 646 nodes, 426 edges, 140 labeled nodes\n",
            "Epoch: 01, Loss: 2.0227, Train: 38.57%, Valid: 12.80% Test: 17.10%\n",
            "Sampled 641 nodes, 430 edges, 140 labeled nodes\n",
            "Epoch: 02, Loss: 1.5388, Train: 75.71%, Valid: 30.80% Test: 37.80%\n",
            "Sampled 650 nodes, 428 edges, 140 labeled nodes\n",
            "Epoch: 03, Loss: 1.1259, Train: 92.86%, Valid: 52.40% Test: 55.40%\n",
            "Sampled 673 nodes, 455 edges, 140 labeled nodes\n",
            "Epoch: 04, Loss: 0.8411, Train: 95.71%, Valid: 63.60% Test: 64.70%\n",
            "Sampled 682 nodes, 452 edges, 140 labeled nodes\n",
            "Epoch: 05, Loss: 0.6101, Train: 97.86%, Valid: 68.00% Test: 69.00%\n",
            "Sampled 663 nodes, 448 edges, 140 labeled nodes\n",
            "Epoch: 06, Loss: 0.4365, Train: 98.57%, Valid: 71.80% Test: 70.90%\n",
            "Sampled 695 nodes, 488 edges, 140 labeled nodes\n",
            "Epoch: 07, Loss: 0.3056, Train: 99.29%, Valid: 71.80% Test: 73.40%\n",
            "Sampled 650 nodes, 425 edges, 140 labeled nodes\n",
            "Epoch: 08, Loss: 0.1952, Train: 99.29%, Valid: 71.40% Test: 74.80%\n",
            "Sampled 640 nodes, 416 edges, 140 labeled nodes\n",
            "Epoch: 09, Loss: 0.1570, Train: 100.00%, Valid: 71.40% Test: 75.30%\n",
            "Sampled 684 nodes, 470 edges, 140 labeled nodes\n",
            "Epoch: 10, Loss: 0.1124, Train: 100.00%, Valid: 71.80% Test: 75.90%\n",
            "Sampled 660 nodes, 442 edges, 140 labeled nodes\n",
            "Epoch: 11, Loss: 0.0936, Train: 100.00%, Valid: 71.80% Test: 76.00%\n",
            "Sampled 685 nodes, 471 edges, 140 labeled nodes\n",
            "Epoch: 12, Loss: 0.0714, Train: 100.00%, Valid: 71.60% Test: 76.00%\n",
            "Sampled 650 nodes, 440 edges, 140 labeled nodes\n",
            "Epoch: 13, Loss: 0.0627, Train: 100.00%, Valid: 71.80% Test: 75.90%\n",
            "Sampled 672 nodes, 440 edges, 140 labeled nodes\n",
            "Epoch: 14, Loss: 0.0365, Train: 100.00%, Valid: 71.60% Test: 75.60%\n",
            "Sampled 661 nodes, 451 edges, 140 labeled nodes\n",
            "Epoch: 15, Loss: 0.0398, Train: 100.00%, Valid: 72.20% Test: 75.80%\n",
            "Sampled 666 nodes, 462 edges, 140 labeled nodes\n",
            "Epoch: 16, Loss: 0.0246, Train: 100.00%, Valid: 72.20% Test: 75.50%\n",
            "Sampled 644 nodes, 404 edges, 140 labeled nodes\n",
            "Epoch: 17, Loss: 0.0160, Train: 100.00%, Valid: 72.20% Test: 75.50%\n",
            "Sampled 647 nodes, 450 edges, 140 labeled nodes\n",
            "Epoch: 18, Loss: 0.0128, Train: 100.00%, Valid: 72.00% Test: 75.40%\n",
            "Sampled 652 nodes, 422 edges, 140 labeled nodes\n",
            "Epoch: 19, Loss: 0.0099, Train: 100.00%, Valid: 71.80% Test: 75.50%\n",
            "Sampled 650 nodes, 423 edges, 140 labeled nodes\n",
            "Epoch: 20, Loss: 0.0202, Train: 100.00%, Valid: 71.40% Test: 75.30%\n",
            "Sampled 647 nodes, 431 edges, 140 labeled nodes\n",
            "Epoch: 21, Loss: 0.0096, Train: 100.00%, Valid: 71.80% Test: 75.20%\n",
            "Sampled 694 nodes, 487 edges, 140 labeled nodes\n",
            "Epoch: 22, Loss: 0.0151, Train: 100.00%, Valid: 71.20% Test: 74.70%\n",
            "Sampled 659 nodes, 445 edges, 140 labeled nodes\n",
            "Epoch: 23, Loss: 0.0217, Train: 100.00%, Valid: 71.00% Test: 74.70%\n",
            "Sampled 680 nodes, 469 edges, 140 labeled nodes\n",
            "Epoch: 24, Loss: 0.0040, Train: 100.00%, Valid: 71.20% Test: 74.40%\n",
            "Sampled 677 nodes, 447 edges, 140 labeled nodes\n",
            "Epoch: 25, Loss: 0.0059, Train: 100.00%, Valid: 71.20% Test: 74.60%\n",
            "Sampled 652 nodes, 452 edges, 140 labeled nodes\n",
            "Epoch: 26, Loss: 0.0032, Train: 100.00%, Valid: 71.00% Test: 74.90%\n",
            "Sampled 640 nodes, 427 edges, 140 labeled nodes\n",
            "Epoch: 27, Loss: 0.0126, Train: 100.00%, Valid: 71.00% Test: 74.90%\n",
            "Sampled 668 nodes, 441 edges, 140 labeled nodes\n",
            "Epoch: 28, Loss: 0.0114, Train: 100.00%, Valid: 70.80% Test: 75.00%\n",
            "Sampled 681 nodes, 473 edges, 140 labeled nodes\n",
            "Epoch: 29, Loss: 0.0058, Train: 100.00%, Valid: 71.00% Test: 75.20%\n",
            "Sampled 705 nodes, 488 edges, 140 labeled nodes\n",
            "Epoch: 30, Loss: 0.0021, Train: 100.00%, Valid: 71.00% Test: 75.10%\n",
            "Sampled 647 nodes, 412 edges, 140 labeled nodes\n",
            "Epoch: 31, Loss: 0.0144, Train: 100.00%, Valid: 71.00% Test: 75.20%\n",
            "Sampled 697 nodes, 481 edges, 140 labeled nodes\n",
            "Epoch: 32, Loss: 0.0019, Train: 100.00%, Valid: 71.20% Test: 74.80%\n",
            "Sampled 653 nodes, 446 edges, 140 labeled nodes\n",
            "Epoch: 33, Loss: 0.0071, Train: 100.00%, Valid: 70.80% Test: 74.70%\n",
            "Sampled 676 nodes, 465 edges, 140 labeled nodes\n",
            "Epoch: 34, Loss: 0.0016, Train: 100.00%, Valid: 70.80% Test: 74.70%\n",
            "Sampled 659 nodes, 439 edges, 140 labeled nodes\n",
            "Epoch: 35, Loss: 0.0019, Train: 100.00%, Valid: 70.80% Test: 74.60%\n",
            "Sampled 689 nodes, 490 edges, 140 labeled nodes\n",
            "Epoch: 36, Loss: 0.0016, Train: 100.00%, Valid: 70.80% Test: 74.30%\n",
            "Sampled 688 nodes, 470 edges, 140 labeled nodes\n",
            "Epoch: 37, Loss: 0.0020, Train: 100.00%, Valid: 70.60% Test: 74.20%\n",
            "Sampled 676 nodes, 473 edges, 140 labeled nodes\n",
            "Epoch: 38, Loss: 0.0009, Train: 100.00%, Valid: 70.60% Test: 74.00%\n",
            "Sampled 670 nodes, 445 edges, 140 labeled nodes\n",
            "Epoch: 39, Loss: 0.0025, Train: 100.00%, Valid: 70.80% Test: 74.00%\n",
            "Sampled 653 nodes, 423 edges, 140 labeled nodes\n",
            "Epoch: 40, Loss: 0.0034, Train: 100.00%, Valid: 71.20% Test: 74.00%\n",
            "Sampled 659 nodes, 451 edges, 140 labeled nodes\n",
            "Epoch: 41, Loss: 0.0006, Train: 100.00%, Valid: 71.40% Test: 73.90%\n",
            "Sampled 633 nodes, 419 edges, 140 labeled nodes\n",
            "Epoch: 42, Loss: 0.0040, Train: 100.00%, Valid: 71.40% Test: 73.90%\n",
            "Sampled 651 nodes, 467 edges, 140 labeled nodes\n",
            "Epoch: 43, Loss: 0.0007, Train: 100.00%, Valid: 71.40% Test: 74.00%\n",
            "Sampled 639 nodes, 416 edges, 140 labeled nodes\n",
            "Epoch: 44, Loss: 0.0022, Train: 100.00%, Valid: 71.40% Test: 73.90%\n",
            "Sampled 661 nodes, 453 edges, 140 labeled nodes\n",
            "Epoch: 45, Loss: 0.0037, Train: 100.00%, Valid: 71.60% Test: 73.90%\n",
            "Sampled 687 nodes, 467 edges, 140 labeled nodes\n",
            "Epoch: 46, Loss: 0.0007, Train: 100.00%, Valid: 71.40% Test: 73.80%\n",
            "Sampled 639 nodes, 425 edges, 140 labeled nodes\n",
            "Epoch: 47, Loss: 0.0034, Train: 100.00%, Valid: 71.60% Test: 73.60%\n",
            "Sampled 681 nodes, 468 edges, 140 labeled nodes\n",
            "Epoch: 48, Loss: 0.0007, Train: 100.00%, Valid: 71.60% Test: 73.50%\n",
            "Sampled 654 nodes, 443 edges, 140 labeled nodes\n",
            "Epoch: 49, Loss: 0.0024, Train: 100.00%, Valid: 71.40% Test: 73.50%\n",
            "Sampled 676 nodes, 483 edges, 140 labeled nodes\n",
            "Epoch: 50, Loss: 0.0037, Train: 100.00%, Valid: 71.40% Test: 73.70%\n",
            "Saving Model Predictions for Model: batch (0.3,0.5,1)\n",
            "Best model: Train: 100.00%, Valid: 72.20% Test: 75.80%\n"
          ]
        }
      ],
      "source": [
        "if 'IS_GRADESCOPE_ENV' not in os.environ:\n",
        "\n",
        "  set_seed()\n",
        "\n",
        "  # Change the ratio to 0.3\n",
        "  args['ratios'] = (0.3, 0.5, 1)\n",
        "\n",
        "  graphs_train, graphs_val, graphs_test = \\\n",
        "      GraphDataset.pyg_to_graphs(pyg_dataset, verbose=True, fixed_split=True)\n",
        "\n",
        "  graph_train = graphs_train[0]\n",
        "  graph_val = graphs_val[0]\n",
        "  graph_test = graphs_test[0]\n",
        "\n",
        "  model = GNN(graph_train.num_node_features, args['hidden_size'], graph_train.num_node_labels, args).to(args['device'])\n",
        "\n",
        "  # Disable compile as this does not seem to work yet in PyTorch 2.0.1/PyG 2.3.1\n",
        "  # try:\n",
        "  #   model = torch_geometric.compile(model)\n",
        "  #   print(f\"GNN Model compiled\")\n",
        "  # except Exception as err:\n",
        "  #   print(f\"Model compile not supported: {err}\")\n",
        "\n",
        "  optimizer = torch.optim.Adam(model.parameters(), lr=args['lr'])\n",
        "  graphs = [graph_train, graph_val, graph_test]\n",
        "  batch_best_model, batch_accs_1 = train(graphs, graphs, args, model, optimizer)\n",
        "  train_acc, val_acc, test_acc = test([graph_train, graph_val, graph_test], batch_best_model, save_model_results=True, batch_type=\"batch\", title=\"(0.3,0.5,1)\")\n",
        "  print('Best model:',\n",
        "        f'Train: {100 * train_acc:.2f}%, '\n",
        "        f'Valid: {100 * val_acc:.2f}% '\n",
        "        f'Test: {100 * test_acc:.2f}%')"
      ]
    },
    {
      "cell_type": "markdown",
      "metadata": {
        "id": "EePAvNlGUM2K"
      },
      "source": [
        "## Visualization"
      ]
    },
    {
      "cell_type": "code",
      "execution_count": 16,
      "metadata": {
        "colab": {
          "base_uri": "https://localhost:8080/",
          "height": 641
        },
        "id": "7etNAkXAT55d",
        "outputId": "95fcaf03-29b7-4fc8-d37a-45e19f176446"
      },
      "outputs": [
        {
          "output_type": "display_data",
          "data": {
            "text/plain": [
              "<Figure size 900x700 with 1 Axes>"
            ],
            "image/png": "[encoded data removed]"
          },
          "metadata": {}
        }
      ],
      "source": [
        "import numpy as np\n",
        "from matplotlib import pyplot as plt\n",
        "\n",
        "if 'IS_GRADESCOPE_ENV' not in os.environ:\n",
        "  batch_results = np.array(batch_accs)\n",
        "  batch_results_1 = np.array(batch_accs_1)\n",
        "  all_results = np.array(all_accs)\n",
        "\n",
        "  x = np.arange(1, 51)\n",
        "\n",
        "  plt.figure(figsize=(9, 7))\n",
        "\n",
        "  plt.plot(x, batch_results[:, 0], label=\"Batch 0.8 Train\")\n",
        "  plt.plot(x, batch_results[:, 1], label=\"Batch 0.8 Validation\")\n",
        "  plt.plot(x, batch_results[:, 2], label=\"Batch 0.8 Test\")\n",
        "  plt.plot(x, batch_results_1[:, 0], label=\"Batch 0.3 Train\")\n",
        "  plt.plot(x, batch_results_1[:, 1], label=\"Batch 0.3 Validation\")\n",
        "  plt.plot(x, batch_results_1[:, 2], label=\"Batch 0.3 Test\")\n",
        "  plt.plot(x, all_results[:, 0], label=\"All Train\")\n",
        "  plt.plot(x, all_results[:, 1], label=\"All Validation\")\n",
        "  plt.plot(x, all_results[:, 2], label=\"All Test\")\n",
        "  plt.title('Model Accuracy')\n",
        "  plt.ylabel('Accuracy')\n",
        "  plt.xlabel('Epoch')\n",
        "  plt.legend()\n",
        "  plt.show()"
      ]
    },
    {
      "cell_type": "markdown",
      "metadata": {
        "id": "bkA7-0groq7q"
      },
      "source": [
        "**NOTE:** We always evaluate accuracy in full-batch mode. Namely, only during training do we use neighborhood sub-sampling. We do this for a couple reason: 1) fairness of comparison, 2) we worry most about computational cost during training as compared to evaluation, and 3) during the inference phase we want to leverage as much neighborhood information as possible!  "
      ]
    },
    {
      "cell_type": "markdown",
      "metadata": {
        "id": "Iee0U8KGURc8"
      },
      "source": [
        "# 2) Cluster Sampling\n",
        "\n",
        "As discussed in Module 7.2, we can also use subgraph (cluster) sampling to scale up GNN. Specifically, we will explore the methods proposed in Cluster-GCN ([Chiang et al. (2019)](https://arxiv.org/abs/1905.07953)), where we break our graph into smaller subgraphs to avoid the computational cost of training on the entire graph at once.\n",
        "\n",
        "In this final section, we will implement a vanilla Cluster-GCN and experiment with 3 different community partition algorithms.\n",
        "\n",
        "**NOTE:** the code in this section requires that you have run the `Setup`, `GNN Model` and `Training and Testing` cells of section 2."
      ]
    },
    {
      "cell_type": "markdown",
      "metadata": {
        "id": "_BXjP79gUYir"
      },
      "source": [
        "## Setup"
      ]
    },
    {
      "cell_type": "code",
      "execution_count": null,
      "metadata": {
        "id": "UGQ_VKp8UOEm"
      },
      "outputs": [],
      "source": [
        "import copy\n",
        "import torch\n",
        "import random\n",
        "import numpy as np\n",
        "import networkx as nx\n",
        "import torch.nn as nn\n",
        "import pandas as pd\n",
        "import torch.nn.functional as F\n",
        "import community.community_louvain as community_louvain\n",
        "\n",
        "from torch_geometric.nn import SAGEConv\n",
        "from torch.utils.data import DataLoader\n",
        "from torch_geometric.datasets import Planetoid\n",
        "from torch.nn import Sequential, Linear, ReLU\n",
        "from deepsnap.dataset import GraphDataset\n",
        "from deepsnap.graph import Graph\n",
        "\n",
        "if 'IS_GRADESCOPE_ENV' not in os.environ:\n",
        "  pyg_dataset = Planetoid('./tmp', \"Cora\")"
      ]
    },
    {
      "cell_type": "code",
      "execution_count": null,
      "metadata": {
        "id": "bzMatyCSUaB6"
      },
      "outputs": [],
      "source": [
        "args = {\n",
        "    'device': torch.device('cuda' if torch.cuda.is_available() else 'cpu'),\n",
        "    'dropout': 0.5,\n",
        "    'num_layers': 2,\n",
        "    'hidden_size': 64,\n",
        "    'lr': 0.005,\n",
        "    'epochs': 150,\n",
        "}"
      ]
    },
    {
      "cell_type": "markdown",
      "metadata": {
        "id": "ekV-sokSUeLc"
      },
      "source": [
        "## Partitioning the Graph into Clusters\n",
        "\n",
        "We will experiment with three community detection / partition algorithms to partition our graph into different clusters:\n",
        "* [Kernighan–Lin algorithm (bisection)](https://networkx.org/documentation/stable/reference/algorithms/generated/networkx.algorithms.community.kernighan_lin.kernighan_lin_bisection.html)\n",
        "* [Clauset-Newman-Moore greedy modularity maximization](https://networkx.org/documentation/stable/reference/algorithms/generated/networkx.algorithms.community.modularity_max.greedy_modularity_communities.html#networkx.algorithms.community.modularity_max.greedy_modularity_communities)\n",
        "* [Louvain algorithm](https://python-louvain.readthedocs.io/en/latest/api.html)\n",
        "\n",
        "\n",
        "As a preprocessing step, we partition our graph into a list of seperate subgraphs using one of the three communitiy detection algorithms above. Then during training we iteratively train our vanilla Cluster-GNN model on a randomly selected subgraph, rather than on over the entire graph at once. To make training more stable, we discard any communities that have less than 10 nodes.\n",
        "\n",
        "Let's begin by defining the three partition algorithms."
      ]
    },
    {
      "cell_type": "code",
      "execution_count": null,
      "metadata": {
        "id": "N8XeT005UcKh"
      },
      "outputs": [],
      "source": [
        "def partition(G, method=\"louvain\"):\n",
        "    # TODO: Implement a function that takes a Networkx graph G and\n",
        "    # partitions the graph into communities using the specified graph\n",
        "    # partition algorithm.\n",
        "    #\n",
        "    # Return: A list of sets of nodes, one for each community!\n",
        "\n",
        "    communities = None\n",
        "\n",
        "    if method == \"louvain\":\n",
        "        ############# Your code here #############\n",
        "        ## (~9 line of code)\n",
        "        ## Note:\n",
        "        ## 1. Find a community mapping corresponding to the partition of the\n",
        "        ##    graph nodes which maximizes the modularity for the Louvain algorithm.\n",
        "        ##    Set your resolution to 10.\n",
        "        ## 2. Create a mapping of communities to a set of member nodes.\n",
        "        ## 3. Extract the node sets from each community and return\n",
        "        ##    as a list of sets.\n",
        "        ##    Hint: Perhaps a dictionary structure can assist.\n",
        "        ## 4. SET random_state = 8\n",
        "        pass\n",
        "        ##########################################\n",
        "    elif method == \"bisection\":\n",
        "        ############# Your code here #############\n",
        "        ## (~1 line of code)\n",
        "        ## Note:\n",
        "        ## 1. The Kernigan-Lin algorithm ensures that nodes are partitioned into two\n",
        "        ##    primary communities.\n",
        "        ## 2. Ensure that the resultant data structure is consistent with expected\n",
        "        ##    output.\n",
        "        ## 3. SET seed = 8\n",
        "        pass\n",
        "        ##########################################\n",
        "    elif method == \"greedy\":\n",
        "        ############# Your code here #############\n",
        "        ## (~1 line of code)\n",
        "        ## Note:\n",
        "        ## 1. Clauset-Newman-Moore greedy modularity maximization joins pair\n",
        "        ##    of communities nodes that most increases modularity until no such\n",
        "        ##    pair exists.\n",
        "        pass\n",
        "        ##########################################\n",
        "\n",
        "    return communities\n",
        "\n",
        "\n",
        "def preprocess(G, node_label_index, method=\"louvain\"):\n",
        "    graphs = []\n",
        "    labeled_nodes = set(node_label_index.tolist())\n",
        "\n",
        "    communities = partition(G, method)\n",
        "\n",
        "    for community in communities:\n",
        "        nodes = set(community)\n",
        "        subgraph = G.subgraph(nodes)\n",
        "        # Make sure each subgraph has more than 10 nodes\n",
        "        if subgraph.number_of_nodes() > 10:\n",
        "            node_mapping = {node : i for i, node in enumerate(subgraph.nodes())}\n",
        "            subgraph = nx.relabel_nodes(subgraph, node_mapping)\n",
        "            # Get the id of the training set labeled node in the new graph\n",
        "            train_label_index = []\n",
        "            for node in labeled_nodes:\n",
        "                if node in node_mapping:\n",
        "                    # Append relabeled labeled node index\n",
        "                    train_label_index.append(node_mapping[node])\n",
        "\n",
        "            # Make sure the subgraph contains at least one training set labeled node\n",
        "            if len(train_label_index) > 0:\n",
        "                dg = Graph(subgraph)\n",
        "                # Update node_label_index\n",
        "                dg.node_label_index = torch.tensor(train_label_index, dtype=torch.long)\n",
        "                graphs.append(dg)\n",
        "    return graphs"
      ]
    },
    {
      "cell_type": "markdown",
      "metadata": {
        "id": "YKrUdkhC1-A3"
      },
      "source": [
        "## Experimenting with different graph partition algorithms\n",
        "\n",
        "We will now experiment with the three graph partition algorithms, using the resulting graph clusters to train our vanilla Cluster-GNN. We will first observe how each parition algorithm partitions the original graph. Then we will compare the perfomance of our vanilla Cluster-GNN trained using the different graph clustering techniques. Lastly, we will compare against training a vanilla GCN over the entire graph (refered to as Full-Batch training).  "
      ]
    },
    {
      "cell_type": "markdown",
      "metadata": {
        "id": "7CYEamCAU-TJ"
      },
      "source": [
        "## **Question 2.1a:** How does the Louvain algorithm partition our graph? (3 points)\n"
      ]
    },
    {
      "cell_type": "code",
      "execution_count": null,
      "metadata": {
        "id": "-TrC6ybWU7eO"
      },
      "outputs": [],
      "source": [
        "if 'IS_GRADESCOPE_ENV' not in os.environ:\n",
        "\n",
        "  set_seed()\n",
        "\n",
        "  graphs_train, graphs_val, graphs_test = \\\n",
        "      GraphDataset.pyg_to_graphs(pyg_dataset, verbose=True, fixed_split=True)\n",
        "\n",
        "  graph_train = graphs_train[0]\n",
        "  graph_val = graphs_val[0]\n",
        "  graph_test = graphs_test[0]\n",
        "  graphs = preprocess(graph_train.G, graph_train.node_label_index, method=\"louvain\")\n",
        "  print()\n",
        "  print(\"Partitioning the graph in to {} communities\".format(len(graphs)))\n",
        "  avg_num_nodes = 0\n",
        "  avg_num_edges = 0\n",
        "  for graph in graphs:\n",
        "      avg_num_nodes += graph.num_nodes\n",
        "      avg_num_edges += graph.num_edges\n",
        "  avg_num_nodes = int(avg_num_nodes / len(graphs))\n",
        "  avg_num_edges = int(avg_num_edges / len(graphs))\n",
        "  print(\"Each community has {} nodes in average\".format(avg_num_nodes))\n",
        "  print(\"Each community has {} edges in average\".format(avg_num_edges))"
      ]
    },
    {
      "cell_type": "markdown",
      "metadata": {
        "id": "O03uXIuGVIgJ"
      },
      "source": [
        "## **Question 2.1b:** Using Louvain clustering, what is the maximum test accuracy obtained by your vanilla Cluster-GCN? (6 points)\n"
      ]
    },
    {
      "cell_type": "code",
      "execution_count": null,
      "metadata": {
        "id": "iSbGf5ADVFQq"
      },
      "outputs": [],
      "source": [
        "if 'IS_GRADESCOPE_ENV' not in os.environ:\n",
        "\n",
        "  set_seed()\n",
        "\n",
        "  model = GNN(graph_train.num_node_features, args['hidden_size'], graph_train.num_node_labels, args).to(args['device'])\n",
        "\n",
        "  # Disable compile as this does not seem to work yet in PyTorch 2.0.1/PyG 2.3.1\n",
        "  # try:\n",
        "  #   model = torch_geometric.compile(model)\n",
        "  #   print(f\"GNN Model compiled\")\n",
        "  # except Exception as err:\n",
        "  #   print(f\"Model compile not supported: {err}\")\n",
        "\n",
        "  optimizer = torch.optim.Adam(model.parameters(), lr=args['lr'])\n",
        "  louvain_best_model, louvain_accs = train(graphs, [graph_train, graph_val, graph_test], args, model, optimizer, mode=\"community\")\n",
        "  train_acc, val_acc, test_acc = test([graph_train, graph_val, graph_test], louvain_best_model, save_model_results=True, batch_type=\"cluster\", title=\"louvain\")\n",
        "  print('Best model:',\n",
        "        f'Train: {100 * train_acc:.2f}%, '\n",
        "        f'Valid: {100 * val_acc:.2f}% '\n",
        "        f'Test: {100 * test_acc:.2f}%')"
      ]
    },
    {
      "cell_type": "markdown",
      "metadata": {
        "id": "6CvTf0ANVO9U"
      },
      "source": [
        "## **Question 2.2a:** How does the Bisection algorithm partition our graph? (3 points)"
      ]
    },
    {
      "cell_type": "code",
      "execution_count": null,
      "metadata": {
        "id": "HkV0zlhgVJ7u"
      },
      "outputs": [],
      "source": [
        "if 'IS_GRADESCOPE_ENV' not in os.environ:\n",
        "\n",
        "  set_seed()\n",
        "\n",
        "  graphs_train, graphs_val, graphs_test = \\\n",
        "      GraphDataset.pyg_to_graphs(pyg_dataset, verbose=True, fixed_split=True)\n",
        "\n",
        "  graph_train = graphs_train[0]\n",
        "  graph_val = graphs_val[0]\n",
        "  graph_test = graphs_test[0]\n",
        "  graphs = preprocess(graph_train.G, graph_train.node_label_index, method=\"bisection\")\n",
        "  print(\"Partition the graph in to {} communities\".format(len(graphs)))\n",
        "  avg_num_nodes = 0\n",
        "  avg_num_edges = 0\n",
        "  for graph in graphs:\n",
        "      avg_num_nodes += graph.num_nodes\n",
        "      avg_num_edges += graph.num_edges\n",
        "  avg_num_nodes = int(avg_num_nodes / len(graphs))\n",
        "  avg_num_edges = int(avg_num_edges / len(graphs))\n",
        "  print(\"Each community has {} nodes in average\".format(avg_num_nodes))\n",
        "  print(\"Each community has {} edges in average\".format(avg_num_edges))"
      ]
    },
    {
      "cell_type": "markdown",
      "metadata": {
        "id": "IqMCvP8wVVms"
      },
      "source": [
        "## **Question 2.2b:** Using the Bisection algorithm to partition the graph, what is the maximum test accuracy obtained by your vanilla Cluster-GCN? (6 points)\n"
      ]
    },
    {
      "cell_type": "code",
      "execution_count": null,
      "metadata": {
        "id": "k1wgFg1bVRGY"
      },
      "outputs": [],
      "source": [
        "if 'IS_GRADESCOPE_ENV' not in os.environ:\n",
        "\n",
        "  set_seed()\n",
        "\n",
        "  model = GNN(graph_train.num_node_features, args['hidden_size'], graph_train.num_node_labels, args).to(args['device'])\n",
        "\n",
        "  # Disable compile as this does not seem to work yet in PyTorch 2.0.1/PyG 2.3.1\n",
        "  # try:\n",
        "  #   model = torch_geometric.compile(model)\n",
        "  #   print(f\"GNN Model compiled\")\n",
        "  # except Exception as err:\n",
        "  #   print(f\"Model compile not supported: {err}\")\n",
        "\n",
        "  optimizer = torch.optim.Adam(model.parameters(), lr=args['lr'])\n",
        "  bisection_best_model, bisection_accs = train(graphs, [graph_train, graph_val, graph_test], args, model, optimizer, mode=\"community\")\n",
        "  train_acc, val_acc, test_acc = test([graph_train, graph_val, graph_test], bisection_best_model, save_model_results=True, batch_type=\"cluster\", title=\"bisection\")\n",
        "  print('Best model:',\n",
        "        f'Train: {100 * train_acc:.2f}%, '\n",
        "        f'Valid: {100 * val_acc:.2f}% '\n",
        "        f'Test: {100 * test_acc:.2f}%')"
      ]
    },
    {
      "cell_type": "markdown",
      "metadata": {
        "id": "5PROPwoOVcJy"
      },
      "source": [
        "## **Question 2.3a:** How does Greedy preprocessing partition our graph? (3 points)"
      ]
    },
    {
      "cell_type": "code",
      "execution_count": null,
      "metadata": {
        "id": "h3DVamWqVT92"
      },
      "outputs": [],
      "source": [
        "if 'IS_GRADESCOPE_ENV' not in os.environ:\n",
        "\n",
        "  set_seed()\n",
        "\n",
        "  graphs_train, graphs_val, graphs_test = \\\n",
        "      GraphDataset.pyg_to_graphs(pyg_dataset, verbose=True, fixed_split=True)\n",
        "\n",
        "  graph_train = graphs_train[0]\n",
        "  graph_val = graphs_val[0]\n",
        "  graph_test = graphs_test[0]\n",
        "  graphs = preprocess(graph_train.G, graph_train.node_label_index, method=\"greedy\")\n",
        "  print(\"Partition the graph in to {} communities\".format(len(graphs)))\n",
        "  avg_num_nodes = 0\n",
        "  avg_num_edges = 0\n",
        "  for graph in graphs:\n",
        "      avg_num_nodes += graph.num_nodes\n",
        "      avg_num_edges += graph.num_edges\n",
        "  avg_num_nodes = int(avg_num_nodes / len(graphs))\n",
        "  avg_num_edges = int(avg_num_edges / len(graphs))\n",
        "  print(\"Each community has {} nodes in average\".format(avg_num_nodes))\n",
        "  print(\"Each community has {} edges in average\".format(avg_num_edges))"
      ]
    },
    {
      "cell_type": "markdown",
      "metadata": {
        "id": "93pR_-kxVgma"
      },
      "source": [
        "## **Question 2.3b:** Using Greedy preprocessing to partition the graph, what is the maximum test accuracy obtained by your vanilla Cluster-GCN? (6 points)"
      ]
    },
    {
      "cell_type": "code",
      "execution_count": null,
      "metadata": {
        "id": "lQgQY-jPVd_U"
      },
      "outputs": [],
      "source": [
        "if 'IS_GRADESCOPE_ENV' not in os.environ:\n",
        "\n",
        "  set_seed()\n",
        "\n",
        "  model = GNN(graph_train.num_node_features, args['hidden_size'], graph_train.num_node_labels, args).to(args['device'])\n",
        "\n",
        "  # Disable compile as this does not seem to work yet in PyTorch 2.0.1/PyG 2.3.1\n",
        "  # try:\n",
        "  #   model = torch_geometric.compile(model)\n",
        "  #   print(f\"GNN Model compiled\")\n",
        "  # except Exception as err:\n",
        "  #   print(f\"Model compile not supported: {err}\")\n",
        "\n",
        "  optimizer = torch.optim.Adam(model.parameters(), lr=args['lr'])\n",
        "  greedy_best_model, greedy_accs = train(graphs, [graph_train, graph_val, graph_test], args, model, optimizer, mode=\"community\")\n",
        "  train_acc, val_acc, test_acc = test([graph_train, graph_val, graph_test], greedy_best_model, save_model_results=True, batch_type=\"cluster\", title=\"greedy\")\n",
        "  print('Best model:',\n",
        "        f'Train: {100 * train_acc:.2f}%, '\n",
        "        f'Valid: {100 * val_acc:.2f}% '\n",
        "        f'Test: {100 * test_acc:.2f}%')"
      ]
    },
    {
      "cell_type": "markdown",
      "metadata": {
        "id": "D5edKKT6Vk1C"
      },
      "source": [
        "## Full-Batch Training"
      ]
    },
    {
      "cell_type": "code",
      "execution_count": null,
      "metadata": {
        "id": "N5tIXxC8ViFD"
      },
      "outputs": [],
      "source": [
        "if 'IS_GRADESCOPE_ENV' not in os.environ:\n",
        "\n",
        "  set_seed()\n",
        "\n",
        "  graphs_train, graphs_val, graphs_test = \\\n",
        "      GraphDataset.pyg_to_graphs(pyg_dataset, verbose=True, fixed_split=True)\n",
        "\n",
        "  graph_train = graphs_train[0]\n",
        "  graph_val = graphs_val[0]\n",
        "  graph_test = graphs_test[0]\n",
        "\n",
        "  model = GNN(graph_train.num_node_features, args['hidden_size'], graph_train.num_node_labels, args).to(args['device'])\n",
        "\n",
        "  # Disable compile as this does not seem to work yet in PyTorch 2.0.1/PyG 2.3.1\n",
        "  # try:\n",
        "  #   model = torch_geometric.compile(model)\n",
        "  #   print(f\"GNN Model compiled\")\n",
        "  # except Exception as err:\n",
        "  #   print(f\"Model compile not supported: {err}\")\n",
        "\n",
        "  optimizer = torch.optim.Adam(model.parameters(), lr=args['lr'])\n",
        "  graphs = [graph_train, graph_val, graph_test]\n",
        "  all_best_model, all_accs = train(graphs, graphs, args, model, optimizer, mode=\"all\")\n",
        "  train_acc, val_acc, test_acc = test([graph_train, graph_val, graph_test], all_best_model)\n",
        "  print('Best model:',\n",
        "        f'Train: {100 * train_acc:.2f}%, '\n",
        "        f'Valid: {100 * val_acc:.2f}% '\n",
        "        f'Test: {100 * test_acc:.2f}%')"
      ]
    },
    {
      "cell_type": "markdown",
      "metadata": {
        "id": "6RpuETv7Vpx0"
      },
      "source": [
        "## Visualization"
      ]
    },
    {
      "cell_type": "code",
      "execution_count": null,
      "metadata": {
        "id": "PMK33kY5VmF5"
      },
      "outputs": [],
      "source": [
        "import numpy as np\n",
        "from matplotlib import pyplot as plt\n",
        "\n",
        "if 'IS_GRADESCOPE_ENV' not in os.environ:\n",
        "  louvain_results = np.array(louvain_accs)\n",
        "  bisection_results = np.array(bisection_accs)\n",
        "  greedy_results = np.array(greedy_accs)\n",
        "  all_results = np.array(all_accs)\n",
        "\n",
        "  x = np.arange(1, 151)\n",
        "\n",
        "  plt.figure(figsize=(9, 7))\n",
        "\n",
        "  plt.plot(x, louvain_results[:, 1], label=\"Louvain Validation\")\n",
        "  plt.plot(x, louvain_results[:, 2], label=\"Louvain Test\")\n",
        "  plt.plot(x, bisection_results[:, 1], label=\"Bisection Validation\")\n",
        "  plt.plot(x, bisection_results[:, 2], label=\"Bisection Test\")\n",
        "  plt.plot(x, greedy_results[:, 1], label=\"Greedy Validation\")\n",
        "  plt.plot(x, greedy_results[:, 2], label=\"Greedy Test\")\n",
        "  plt.plot(x, all_results[:, 1], label=\"All Validation\")\n",
        "  plt.plot(x, all_results[:, 2], label=\"All Test\")\n",
        "  plt.title('Model Accuracy')\n",
        "  plt.ylabel('Accuracy')\n",
        "  plt.xlabel('Epoch')\n",
        "  plt.legend()\n",
        "  plt.show()"
      ]
    },
    {
      "cell_type": "markdown",
      "metadata": {
        "id": "kfucBiYfVYFF"
      },
      "source": [
        "# Submission\n",
        "\n",
        "You will need to submit three files on Gradescope to complete this notebook.\n",
        "\n",
        "1.   Your completed *XCS224W_Colab5.ipynb*. From the \"File\" menu select \"Download .ipynb\" to save a local copy of your completed Colab.\n",
        "2.  *CORA_Node_batch_(0.7,0.9,1).csv*\n",
        "3.  *CORA_Node_batch_(0.3,0.5,1).csv*\n",
        "4.  *CORA_Node_cluster_louvain.csv*\n",
        "5.  *CORA_Node_cluster_greedy.csv*\n",
        "6.  *CORA_Node_cluster_bisection.csv*\n",
        "\n",
        "Download the csv files by selecting the *Folder* icon on the left panel.\n",
        "\n",
        "To submit your work, zip the files downloaded in steps 1-7 above and submit to gradescope. **NOTE:** DO NOT rename any of the downloaded files."
      ]
    }
  ],
  "metadata": {
    "accelerator": "GPU",
    "colab": {
      "machine_shape": "hm",
      "provenance": []
    },
    "kernelspec": {
      "display_name": "Python 3.8.10 64-bit",
      "language": "python",
      "name": "python3"
    },
    "language_info": {
      "codemirror_mode": {
        "name": "ipython",
        "version": 3
      },
      "file_extension": ".py",
      "mimetype": "text/x-python",
      "name": "python",
      "nbconvert_exporter": "python",
      "pygments_lexer": "ipython3",
      "version": "3.10.14"
    },
    "vscode": {
      "interpreter": {
        "hash": "31f2aee4e71d21fbe5cf8b01ff0e069b9275f58929596ceb00d14d90e3e16cd6"
      }
    }
  },
  "nbformat": 4,
  "nbformat_minor": 0
}